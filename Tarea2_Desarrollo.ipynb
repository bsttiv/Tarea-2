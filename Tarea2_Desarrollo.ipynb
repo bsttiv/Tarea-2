{
  "cells": [
    {
      "cell_type": "markdown",
      "metadata": {
        "id": "view-in-github",
        "colab_type": "text"
      },
      "source": [
        "<a href=\"https://colab.research.google.com/github/bsttiv/Tarea-2/blob/main/Tarea2_Desarrollo.ipynb\" target=\"_parent\"><img src=\"https://colab.research.google.com/assets/colab-badge.svg\" alt=\"Open In Colab\"/></a>"
      ]
    },
    {
      "cell_type": "markdown",
      "metadata": {
        "id": "IMRse1InR9l0"
      },
      "source": [
        "# **CD2201-16: Ciencia de Datos en Astronomía**\n",
        "\n",
        "**Profesores:** Boris Cuevas, Paula Díaz, Danilo Sepúlveda, Francisco Urbina\n",
        "\n",
        "# **Tarea 2: Análisis Estadístico Simple**\n",
        "En esta tarea continuaremos practicando con *Numpy, Pandas y Matplotlib* mientras también aprenderán a realizar análisis estadísticos básicos con estas librerías.\n",
        "\n",
        "A estas alturas ya deben tener una noción de estadística y su aplicación en astronomía. La tarea consiste en hacer estimaciones sencillas a partir de datos astronómicos, usando herramientas básicas de Python que permiten trabajar con la estadística de distribuciones de datos.\n",
        "\n",
        "La tarea está dividida en dos partes. La primera consiste en realizar una estimación del movimiento propio de un cúmulo globular ubicado en el halo de nuestra Galaxia a partir de la distribución de estos datos. La segunda parte consiste en comprobar cómo cambia la Señal a Ruido (S/N) al promediar varios espectros de un objeto. No es necesario que tengan conocimientos previos de astronomía por ahora, basta con que sepan manipular los datos indicados.\n",
        "\n",
        "Esta tarea involucra la creación de varias figuras. Así que **póngase creativo con las figuras :D, sus colores, formas, leyendas, etc. También asegúrese de siempre colocar un título y nombre a los ejes!**"
      ]
    },
    {
      "cell_type": "code",
      "execution_count": 1,
      "metadata": {
        "id": "tlfuUWe3TmIp"
      },
      "outputs": [],
      "source": [
        "# Antes de comenzar con la tarea debe correr esta celda para importar las librerías principales a utilizar\n",
        "import numpy as np\n",
        "import pandas as pd\n",
        "import matplotlib.pyplot as plt"
      ]
    },
    {
      "cell_type": "markdown",
      "metadata": {
        "id": "MmDljzJPNoT8"
      },
      "source": [
        "# Primera parte: Estimar movimiento propio del cúmulo globular NGC 5694\n"
      ]
    },
    {
      "cell_type": "markdown",
      "metadata": {
        "id": "SOUcmgezROKf"
      },
      "source": [
        "En esta primera parte trataremos de estimar una cantidad en astronomía que se llama \"movimiento propio\" para un cúmulo globular llamado [NGC 5694](https://en.wikipedia.org/wiki/NGC_5694). Éste cúmulo globular se encuentra en el halo de nuestra Vía Láctea.\n",
        "\n",
        "El movimiento propio de una estrella es el desplazamiento que esta tiene en el cielo, visto desde la Tierra, con el paso del tiempo. Aunque las estrellas parecen fijas a simple vista, en realidad se están moviendo a través del espacio. El movimiento propio mide este cambio en la posición de la estrella, no hacia nosotros ni alejándose, sino moviéndose de forma lateral en el cielo. Las unidades de medida de esta cantidad son mas/yr (miliarcseconds per year), una cantidad muuuuuuy pequeña."
      ]
    },
    {
      "cell_type": "markdown",
      "metadata": {
        "id": "f4d2PHoYeMet"
      },
      "source": [
        "Para que dimensione lo pequeña que es esta cantidad, calcule cuántos años le tomaría a una estrella, que se desplaza exclusivamente en dirección horizontal en el cielo con un movimiento propio de 1mas/yr, cubrir una distancia de 0.5 grados en el cielo en la misma dirección (equivalente al tamaño aparente de la Luna en el cielo).\n",
        "\n",
        "Hint: 1 grado corresponde a $3.6$ x $10^6$ mas."
      ]
    },
    {
      "cell_type": "code",
      "execution_count": 6,
      "metadata": {
        "id": "ugPRYK9XdzJA",
        "colab": {
          "base_uri": "https://localhost:8080/"
        },
        "outputId": "19c96fb9-e991-49e0-cae0-a9f033ac3a17"
      },
      "outputs": [
        {
          "output_type": "execute_result",
          "data": {
            "text/plain": [
              "1800000.0"
            ]
          },
          "metadata": {},
          "execution_count": 6
        }
      ],
      "source": [
        "# Haga el cálculo aquí\n",
        "grado = 3.6E+06\n",
        "grado_a_mas = grado/2\n",
        "cantidad_de_años = 1*grado_a_mas\n",
        "cantidad_de_años"
      ]
    },
    {
      "cell_type": "markdown",
      "metadata": {
        "id": "yckQW6vpNwBD"
      },
      "source": [
        "### a) Cargar los Datos\n",
        "\n",
        "Primero debe montar el drive, lo que permite leer archivos guardados en el mismo. Para esto debe correr la celda de abajo."
      ]
    },
    {
      "cell_type": "code",
      "execution_count": 7,
      "metadata": {
        "id": "x3pfbt8mPy3d",
        "colab": {
          "base_uri": "https://localhost:8080/"
        },
        "outputId": "ae0d7909-ad41-40e6-bdc6-cd1e53fcf503"
      },
      "outputs": [
        {
          "output_type": "stream",
          "name": "stdout",
          "text": [
            "Mounted at /content/drive\n"
          ]
        }
      ],
      "source": [
        "from google.colab import drive\n",
        "drive.mount('/content/drive')"
      ]
    },
    {
      "cell_type": "markdown",
      "metadata": {
        "id": "LsycK59LyoOm"
      },
      "source": [
        "Importe el archivo **ngc5694_pm.csv** utilizando la función **pd.read_csv(path)** y guárdelo como **data**.\n",
        "\n",
        "En la barra de herramientas ubicada en la izquierda, puede encontrar la ruta (path) al archivo \"ngc5694_pm.csv\" dentro de su drive. Copie la ruta y cargue dicha base de datos en la siguiente celda como se le indica."
      ]
    },
    {
      "cell_type": "code",
      "execution_count": 8,
      "metadata": {
        "id": "dfz4NMyXQE9g"
      },
      "outputs": [],
      "source": [
        "path_archivo = 'drive/MyDrive/Modulo/Tarea2/ngc5694_pm.csv'\n",
        "data = pd.read_csv(path_archivo)"
      ]
    },
    {
      "cell_type": "markdown",
      "metadata": {
        "id": "iG__ZWN0uIpr"
      },
      "source": [
        "### b) Explorar el DataFrame\n",
        "Explore las columnas del archivo y muestre el DataFrame"
      ]
    },
    {
      "cell_type": "code",
      "execution_count": 12,
      "metadata": {
        "id": "z4UDi62JuTzQ",
        "colab": {
          "base_uri": "https://localhost:8080/"
        },
        "outputId": "7a0b50ba-7eb2-4e0a-aae6-4590136be975"
      },
      "outputs": [
        {
          "output_type": "stream",
          "name": "stdout",
          "text": [
            "0      219.370629\n",
            "1      219.373996\n",
            "2      219.363458\n",
            "3      219.336931\n",
            "4      219.463706\n",
            "          ...    \n",
            "616    220.732855\n",
            "617    220.710525\n",
            "618    219.327652\n",
            "619    219.225796\n",
            "620    219.162241\n",
            "Name: ra, Length: 621, dtype: float64\n",
            "0     -27.312548\n",
            "1     -27.243801\n",
            "2     -27.213113\n",
            "3     -27.172985\n",
            "4     -27.189408\n",
            "         ...    \n",
            "616   -26.148055\n",
            "617   -26.150902\n",
            "618   -27.267281\n",
            "619   -27.172318\n",
            "620   -27.121378\n",
            "Name: dec, Length: 621, dtype: float64\n",
            "0      0.053134\n",
            "1     -0.960711\n",
            "2      0.674957\n",
            "3     -0.057975\n",
            "4     -0.438914\n",
            "         ...   \n",
            "616   -0.269935\n",
            "617   -0.962554\n",
            "618   -0.796753\n",
            "619   -0.901963\n",
            "620    0.059221\n",
            "Name: pmra, Length: 621, dtype: float64\n",
            "0     -1.674613\n",
            "1     -0.283708\n",
            "2     -1.741153\n",
            "3     -0.564131\n",
            "4     -0.487856\n",
            "         ...   \n",
            "616   -0.891652\n",
            "617   -0.400258\n",
            "618   -0.266571\n",
            "619   -0.302597\n",
            "620   -1.300554\n",
            "Name: pmdec, Length: 621, dtype: float64\n"
          ]
        }
      ],
      "source": [
        "# Muestra las columnas aquí\n",
        "print(data[\"ra\"])\n",
        "print(data[\"dec\"])\n",
        "print(data[\"pmra\"])\n",
        "print(data[\"pmdec\"])"
      ]
    },
    {
      "cell_type": "code",
      "execution_count": 9,
      "metadata": {
        "id": "IR0mpS32uYlh",
        "colab": {
          "base_uri": "https://localhost:8080/",
          "height": 424
        },
        "outputId": "8a770960-1405-4e3b-eb0d-22c151d8e16b"
      },
      "outputs": [
        {
          "output_type": "execute_result",
          "data": {
            "text/plain": [
              "     Unnamed: 0          ra        dec      pmra     pmdec\n",
              "0             0  219.370629 -27.312548  0.053134 -1.674613\n",
              "1             1  219.373996 -27.243801 -0.960711 -0.283708\n",
              "2             2  219.363458 -27.213113  0.674957 -1.741153\n",
              "3             3  219.336931 -27.172985 -0.057975 -0.564131\n",
              "4             4  219.463706 -27.189408 -0.438914 -0.487856\n",
              "..          ...         ...        ...       ...       ...\n",
              "616         616  220.732855 -26.148055 -0.269935 -0.891652\n",
              "617         617  220.710525 -26.150902 -0.962554 -0.400258\n",
              "618         618  219.327652 -27.267281 -0.796753 -0.266571\n",
              "619         619  219.225796 -27.172318 -0.901963 -0.302597\n",
              "620         620  219.162241 -27.121378  0.059221 -1.300554\n",
              "\n",
              "[621 rows x 5 columns]"
            ],
            "text/html": [
              "\n",
              "  <div id=\"df-d3fbcbfe-fea1-4706-9f64-cfa981f4ff7f\" class=\"colab-df-container\">\n",
              "    <div>\n",
              "<style scoped>\n",
              "    .dataframe tbody tr th:only-of-type {\n",
              "        vertical-align: middle;\n",
              "    }\n",
              "\n",
              "    .dataframe tbody tr th {\n",
              "        vertical-align: top;\n",
              "    }\n",
              "\n",
              "    .dataframe thead th {\n",
              "        text-align: right;\n",
              "    }\n",
              "</style>\n",
              "<table border=\"1\" class=\"dataframe\">\n",
              "  <thead>\n",
              "    <tr style=\"text-align: right;\">\n",
              "      <th></th>\n",
              "      <th>Unnamed: 0</th>\n",
              "      <th>ra</th>\n",
              "      <th>dec</th>\n",
              "      <th>pmra</th>\n",
              "      <th>pmdec</th>\n",
              "    </tr>\n",
              "  </thead>\n",
              "  <tbody>\n",
              "    <tr>\n",
              "      <th>0</th>\n",
              "      <td>0</td>\n",
              "      <td>219.370629</td>\n",
              "      <td>-27.312548</td>\n",
              "      <td>0.053134</td>\n",
              "      <td>-1.674613</td>\n",
              "    </tr>\n",
              "    <tr>\n",
              "      <th>1</th>\n",
              "      <td>1</td>\n",
              "      <td>219.373996</td>\n",
              "      <td>-27.243801</td>\n",
              "      <td>-0.960711</td>\n",
              "      <td>-0.283708</td>\n",
              "    </tr>\n",
              "    <tr>\n",
              "      <th>2</th>\n",
              "      <td>2</td>\n",
              "      <td>219.363458</td>\n",
              "      <td>-27.213113</td>\n",
              "      <td>0.674957</td>\n",
              "      <td>-1.741153</td>\n",
              "    </tr>\n",
              "    <tr>\n",
              "      <th>3</th>\n",
              "      <td>3</td>\n",
              "      <td>219.336931</td>\n",
              "      <td>-27.172985</td>\n",
              "      <td>-0.057975</td>\n",
              "      <td>-0.564131</td>\n",
              "    </tr>\n",
              "    <tr>\n",
              "      <th>4</th>\n",
              "      <td>4</td>\n",
              "      <td>219.463706</td>\n",
              "      <td>-27.189408</td>\n",
              "      <td>-0.438914</td>\n",
              "      <td>-0.487856</td>\n",
              "    </tr>\n",
              "    <tr>\n",
              "      <th>...</th>\n",
              "      <td>...</td>\n",
              "      <td>...</td>\n",
              "      <td>...</td>\n",
              "      <td>...</td>\n",
              "      <td>...</td>\n",
              "    </tr>\n",
              "    <tr>\n",
              "      <th>616</th>\n",
              "      <td>616</td>\n",
              "      <td>220.732855</td>\n",
              "      <td>-26.148055</td>\n",
              "      <td>-0.269935</td>\n",
              "      <td>-0.891652</td>\n",
              "    </tr>\n",
              "    <tr>\n",
              "      <th>617</th>\n",
              "      <td>617</td>\n",
              "      <td>220.710525</td>\n",
              "      <td>-26.150902</td>\n",
              "      <td>-0.962554</td>\n",
              "      <td>-0.400258</td>\n",
              "    </tr>\n",
              "    <tr>\n",
              "      <th>618</th>\n",
              "      <td>618</td>\n",
              "      <td>219.327652</td>\n",
              "      <td>-27.267281</td>\n",
              "      <td>-0.796753</td>\n",
              "      <td>-0.266571</td>\n",
              "    </tr>\n",
              "    <tr>\n",
              "      <th>619</th>\n",
              "      <td>619</td>\n",
              "      <td>219.225796</td>\n",
              "      <td>-27.172318</td>\n",
              "      <td>-0.901963</td>\n",
              "      <td>-0.302597</td>\n",
              "    </tr>\n",
              "    <tr>\n",
              "      <th>620</th>\n",
              "      <td>620</td>\n",
              "      <td>219.162241</td>\n",
              "      <td>-27.121378</td>\n",
              "      <td>0.059221</td>\n",
              "      <td>-1.300554</td>\n",
              "    </tr>\n",
              "  </tbody>\n",
              "</table>\n",
              "<p>621 rows × 5 columns</p>\n",
              "</div>\n",
              "    <div class=\"colab-df-buttons\">\n",
              "\n",
              "  <div class=\"colab-df-container\">\n",
              "    <button class=\"colab-df-convert\" onclick=\"convertToInteractive('df-d3fbcbfe-fea1-4706-9f64-cfa981f4ff7f')\"\n",
              "            title=\"Convert this dataframe to an interactive table.\"\n",
              "            style=\"display:none;\">\n",
              "\n",
              "  <svg xmlns=\"http://www.w3.org/2000/svg\" height=\"24px\" viewBox=\"0 -960 960 960\">\n",
              "    <path d=\"M120-120v-720h720v720H120Zm60-500h600v-160H180v160Zm220 220h160v-160H400v160Zm0 220h160v-160H400v160ZM180-400h160v-160H180v160Zm440 0h160v-160H620v160ZM180-180h160v-160H180v160Zm440 0h160v-160H620v160Z\"/>\n",
              "  </svg>\n",
              "    </button>\n",
              "\n",
              "  <style>\n",
              "    .colab-df-container {\n",
              "      display:flex;\n",
              "      gap: 12px;\n",
              "    }\n",
              "\n",
              "    .colab-df-convert {\n",
              "      background-color: #E8F0FE;\n",
              "      border: none;\n",
              "      border-radius: 50%;\n",
              "      cursor: pointer;\n",
              "      display: none;\n",
              "      fill: #1967D2;\n",
              "      height: 32px;\n",
              "      padding: 0 0 0 0;\n",
              "      width: 32px;\n",
              "    }\n",
              "\n",
              "    .colab-df-convert:hover {\n",
              "      background-color: #E2EBFA;\n",
              "      box-shadow: 0px 1px 2px rgba(60, 64, 67, 0.3), 0px 1px 3px 1px rgba(60, 64, 67, 0.15);\n",
              "      fill: #174EA6;\n",
              "    }\n",
              "\n",
              "    .colab-df-buttons div {\n",
              "      margin-bottom: 4px;\n",
              "    }\n",
              "\n",
              "    [theme=dark] .colab-df-convert {\n",
              "      background-color: #3B4455;\n",
              "      fill: #D2E3FC;\n",
              "    }\n",
              "\n",
              "    [theme=dark] .colab-df-convert:hover {\n",
              "      background-color: #434B5C;\n",
              "      box-shadow: 0px 1px 3px 1px rgba(0, 0, 0, 0.15);\n",
              "      filter: drop-shadow(0px 1px 2px rgba(0, 0, 0, 0.3));\n",
              "      fill: #FFFFFF;\n",
              "    }\n",
              "  </style>\n",
              "\n",
              "    <script>\n",
              "      const buttonEl =\n",
              "        document.querySelector('#df-d3fbcbfe-fea1-4706-9f64-cfa981f4ff7f button.colab-df-convert');\n",
              "      buttonEl.style.display =\n",
              "        google.colab.kernel.accessAllowed ? 'block' : 'none';\n",
              "\n",
              "      async function convertToInteractive(key) {\n",
              "        const element = document.querySelector('#df-d3fbcbfe-fea1-4706-9f64-cfa981f4ff7f');\n",
              "        const dataTable =\n",
              "          await google.colab.kernel.invokeFunction('convertToInteractive',\n",
              "                                                    [key], {});\n",
              "        if (!dataTable) return;\n",
              "\n",
              "        const docLinkHtml = 'Like what you see? Visit the ' +\n",
              "          '<a target=\"_blank\" href=https://colab.research.google.com/notebooks/data_table.ipynb>data table notebook</a>'\n",
              "          + ' to learn more about interactive tables.';\n",
              "        element.innerHTML = '';\n",
              "        dataTable['output_type'] = 'display_data';\n",
              "        await google.colab.output.renderOutput(dataTable, element);\n",
              "        const docLink = document.createElement('div');\n",
              "        docLink.innerHTML = docLinkHtml;\n",
              "        element.appendChild(docLink);\n",
              "      }\n",
              "    </script>\n",
              "  </div>\n",
              "\n",
              "\n",
              "<div id=\"df-d045a891-a9ed-43ea-a32b-9e57a7563b28\">\n",
              "  <button class=\"colab-df-quickchart\" onclick=\"quickchart('df-d045a891-a9ed-43ea-a32b-9e57a7563b28')\"\n",
              "            title=\"Suggest charts\"\n",
              "            style=\"display:none;\">\n",
              "\n",
              "<svg xmlns=\"http://www.w3.org/2000/svg\" height=\"24px\"viewBox=\"0 0 24 24\"\n",
              "     width=\"24px\">\n",
              "    <g>\n",
              "        <path d=\"M19 3H5c-1.1 0-2 .9-2 2v14c0 1.1.9 2 2 2h14c1.1 0 2-.9 2-2V5c0-1.1-.9-2-2-2zM9 17H7v-7h2v7zm4 0h-2V7h2v10zm4 0h-2v-4h2v4z\"/>\n",
              "    </g>\n",
              "</svg>\n",
              "  </button>\n",
              "\n",
              "<style>\n",
              "  .colab-df-quickchart {\n",
              "      --bg-color: #E8F0FE;\n",
              "      --fill-color: #1967D2;\n",
              "      --hover-bg-color: #E2EBFA;\n",
              "      --hover-fill-color: #174EA6;\n",
              "      --disabled-fill-color: #AAA;\n",
              "      --disabled-bg-color: #DDD;\n",
              "  }\n",
              "\n",
              "  [theme=dark] .colab-df-quickchart {\n",
              "      --bg-color: #3B4455;\n",
              "      --fill-color: #D2E3FC;\n",
              "      --hover-bg-color: #434B5C;\n",
              "      --hover-fill-color: #FFFFFF;\n",
              "      --disabled-bg-color: #3B4455;\n",
              "      --disabled-fill-color: #666;\n",
              "  }\n",
              "\n",
              "  .colab-df-quickchart {\n",
              "    background-color: var(--bg-color);\n",
              "    border: none;\n",
              "    border-radius: 50%;\n",
              "    cursor: pointer;\n",
              "    display: none;\n",
              "    fill: var(--fill-color);\n",
              "    height: 32px;\n",
              "    padding: 0;\n",
              "    width: 32px;\n",
              "  }\n",
              "\n",
              "  .colab-df-quickchart:hover {\n",
              "    background-color: var(--hover-bg-color);\n",
              "    box-shadow: 0 1px 2px rgba(60, 64, 67, 0.3), 0 1px 3px 1px rgba(60, 64, 67, 0.15);\n",
              "    fill: var(--button-hover-fill-color);\n",
              "  }\n",
              "\n",
              "  .colab-df-quickchart-complete:disabled,\n",
              "  .colab-df-quickchart-complete:disabled:hover {\n",
              "    background-color: var(--disabled-bg-color);\n",
              "    fill: var(--disabled-fill-color);\n",
              "    box-shadow: none;\n",
              "  }\n",
              "\n",
              "  .colab-df-spinner {\n",
              "    border: 2px solid var(--fill-color);\n",
              "    border-color: transparent;\n",
              "    border-bottom-color: var(--fill-color);\n",
              "    animation:\n",
              "      spin 1s steps(1) infinite;\n",
              "  }\n",
              "\n",
              "  @keyframes spin {\n",
              "    0% {\n",
              "      border-color: transparent;\n",
              "      border-bottom-color: var(--fill-color);\n",
              "      border-left-color: var(--fill-color);\n",
              "    }\n",
              "    20% {\n",
              "      border-color: transparent;\n",
              "      border-left-color: var(--fill-color);\n",
              "      border-top-color: var(--fill-color);\n",
              "    }\n",
              "    30% {\n",
              "      border-color: transparent;\n",
              "      border-left-color: var(--fill-color);\n",
              "      border-top-color: var(--fill-color);\n",
              "      border-right-color: var(--fill-color);\n",
              "    }\n",
              "    40% {\n",
              "      border-color: transparent;\n",
              "      border-right-color: var(--fill-color);\n",
              "      border-top-color: var(--fill-color);\n",
              "    }\n",
              "    60% {\n",
              "      border-color: transparent;\n",
              "      border-right-color: var(--fill-color);\n",
              "    }\n",
              "    80% {\n",
              "      border-color: transparent;\n",
              "      border-right-color: var(--fill-color);\n",
              "      border-bottom-color: var(--fill-color);\n",
              "    }\n",
              "    90% {\n",
              "      border-color: transparent;\n",
              "      border-bottom-color: var(--fill-color);\n",
              "    }\n",
              "  }\n",
              "</style>\n",
              "\n",
              "  <script>\n",
              "    async function quickchart(key) {\n",
              "      const quickchartButtonEl =\n",
              "        document.querySelector('#' + key + ' button');\n",
              "      quickchartButtonEl.disabled = true;  // To prevent multiple clicks.\n",
              "      quickchartButtonEl.classList.add('colab-df-spinner');\n",
              "      try {\n",
              "        const charts = await google.colab.kernel.invokeFunction(\n",
              "            'suggestCharts', [key], {});\n",
              "      } catch (error) {\n",
              "        console.error('Error during call to suggestCharts:', error);\n",
              "      }\n",
              "      quickchartButtonEl.classList.remove('colab-df-spinner');\n",
              "      quickchartButtonEl.classList.add('colab-df-quickchart-complete');\n",
              "    }\n",
              "    (() => {\n",
              "      let quickchartButtonEl =\n",
              "        document.querySelector('#df-d045a891-a9ed-43ea-a32b-9e57a7563b28 button');\n",
              "      quickchartButtonEl.style.display =\n",
              "        google.colab.kernel.accessAllowed ? 'block' : 'none';\n",
              "    })();\n",
              "  </script>\n",
              "</div>\n",
              "\n",
              "  <div id=\"id_339df4da-ed17-4e38-9b7f-72f1607f0472\">\n",
              "    <style>\n",
              "      .colab-df-generate {\n",
              "        background-color: #E8F0FE;\n",
              "        border: none;\n",
              "        border-radius: 50%;\n",
              "        cursor: pointer;\n",
              "        display: none;\n",
              "        fill: #1967D2;\n",
              "        height: 32px;\n",
              "        padding: 0 0 0 0;\n",
              "        width: 32px;\n",
              "      }\n",
              "\n",
              "      .colab-df-generate:hover {\n",
              "        background-color: #E2EBFA;\n",
              "        box-shadow: 0px 1px 2px rgba(60, 64, 67, 0.3), 0px 1px 3px 1px rgba(60, 64, 67, 0.15);\n",
              "        fill: #174EA6;\n",
              "      }\n",
              "\n",
              "      [theme=dark] .colab-df-generate {\n",
              "        background-color: #3B4455;\n",
              "        fill: #D2E3FC;\n",
              "      }\n",
              "\n",
              "      [theme=dark] .colab-df-generate:hover {\n",
              "        background-color: #434B5C;\n",
              "        box-shadow: 0px 1px 3px 1px rgba(0, 0, 0, 0.15);\n",
              "        filter: drop-shadow(0px 1px 2px rgba(0, 0, 0, 0.3));\n",
              "        fill: #FFFFFF;\n",
              "      }\n",
              "    </style>\n",
              "    <button class=\"colab-df-generate\" onclick=\"generateWithVariable('data')\"\n",
              "            title=\"Generate code using this dataframe.\"\n",
              "            style=\"display:none;\">\n",
              "\n",
              "  <svg xmlns=\"http://www.w3.org/2000/svg\" height=\"24px\"viewBox=\"0 0 24 24\"\n",
              "       width=\"24px\">\n",
              "    <path d=\"M7,19H8.4L18.45,9,17,7.55,7,17.6ZM5,21V16.75L18.45,3.32a2,2,0,0,1,2.83,0l1.4,1.43a1.91,1.91,0,0,1,.58,1.4,1.91,1.91,0,0,1-.58,1.4L9.25,21ZM18.45,9,17,7.55Zm-12,3A5.31,5.31,0,0,0,4.9,8.1,5.31,5.31,0,0,0,1,6.5,5.31,5.31,0,0,0,4.9,4.9,5.31,5.31,0,0,0,6.5,1,5.31,5.31,0,0,0,8.1,4.9,5.31,5.31,0,0,0,12,6.5,5.46,5.46,0,0,0,6.5,12Z\"/>\n",
              "  </svg>\n",
              "    </button>\n",
              "    <script>\n",
              "      (() => {\n",
              "      const buttonEl =\n",
              "        document.querySelector('#id_339df4da-ed17-4e38-9b7f-72f1607f0472 button.colab-df-generate');\n",
              "      buttonEl.style.display =\n",
              "        google.colab.kernel.accessAllowed ? 'block' : 'none';\n",
              "\n",
              "      buttonEl.onclick = () => {\n",
              "        google.colab.notebook.generateWithVariable('data');\n",
              "      }\n",
              "      })();\n",
              "    </script>\n",
              "  </div>\n",
              "\n",
              "    </div>\n",
              "  </div>\n"
            ],
            "application/vnd.google.colaboratory.intrinsic+json": {
              "type": "dataframe",
              "variable_name": "data",
              "summary": "{\n  \"name\": \"data\",\n  \"rows\": 621,\n  \"fields\": [\n    {\n      \"column\": \"Unnamed: 0\",\n      \"properties\": {\n        \"dtype\": \"number\",\n        \"std\": 179,\n        \"min\": 0,\n        \"max\": 620,\n        \"num_unique_values\": 621,\n        \"samples\": [\n          49,\n          584,\n          82\n        ],\n        \"semantic_type\": \"\",\n        \"description\": \"\"\n      }\n    },\n    {\n      \"column\": \"ra\",\n      \"properties\": {\n        \"dtype\": \"number\",\n        \"std\": 0.379300322763466,\n        \"min\": 218.92974692026868,\n        \"max\": 220.8914308796261,\n        \"num_unique_values\": 621,\n        \"samples\": [\n          219.96676748452632,\n          220.2567759779741,\n          219.87997965757623\n        ],\n        \"semantic_type\": \"\",\n        \"description\": \"\"\n      }\n    },\n    {\n      \"column\": \"dec\",\n      \"properties\": {\n        \"dtype\": \"number\",\n        \"std\": 0.3189397096408327,\n        \"min\": -27.42360916434232,\n        \"max\": -25.6258873419358,\n        \"num_unique_values\": 621,\n        \"samples\": [\n          -26.56189583586245,\n          -26.49625094080084,\n          -26.55736102560181\n        ],\n        \"semantic_type\": \"\",\n        \"description\": \"\"\n      }\n    },\n    {\n      \"column\": \"pmra\",\n      \"properties\": {\n        \"dtype\": \"number\",\n        \"std\": 0.43823620785185174,\n        \"min\": -0.9996359105774528,\n        \"max\": 0.6754947553818348,\n        \"num_unique_values\": 621,\n        \"samples\": [\n          -0.4641515803029317,\n          -0.6656689032291498,\n          -0.9085819402945384\n        ],\n        \"semantic_type\": \"\",\n        \"description\": \"\"\n      }\n    },\n    {\n      \"column\": \"pmdec\",\n      \"properties\": {\n        \"dtype\": \"number\",\n        \"std\": 0.42760876013101434,\n        \"min\": -1.897719807252715,\n        \"max\": -0.0990601596139654,\n        \"num_unique_values\": 621,\n        \"samples\": [\n          -1.0913779218482405,\n          -1.826220454875675,\n          -1.043568500030713\n        ],\n        \"semantic_type\": \"\",\n        \"description\": \"\"\n      }\n    }\n  ]\n}"
            }
          },
          "metadata": {},
          "execution_count": 9
        }
      ],
      "source": [
        "# Muestra el DataFrame aquí\n",
        "data"
      ]
    },
    {
      "cell_type": "markdown",
      "metadata": {
        "id": "q_CLEl5CzgPM"
      },
      "source": [
        "### c) Graficar un scatter plot\n",
        "Cada fila del DataFrame corresponde a una estrella del cielo y, como habra notado, hay dos columnas denominadas **pmra** y **pmdec**. Estas representan el movimiento propio en ascensión recta y el movimiento propio en declinación, respectivamente, que son los desplazamientos de una estrella en dos ejes distintos del cielo: RA y DEC.\n",
        "\n",
        "Selecciona del DataFrame los datos de las columnas **pmra** y **pmdec** y guárdalos en las variables indicadas. Luego, realiza un gráfico de dispersión (scatter plot) colocando en el eje x los datos de \"pmra\" y en el eje y los de \"pmdec\"."
      ]
    },
    {
      "cell_type": "code",
      "execution_count": 14,
      "metadata": {
        "collapsed": true,
        "id": "ljT-OoR0madd",
        "jupyter": {
          "outputs_hidden": true
        }
      },
      "outputs": [],
      "source": [
        "pmra = data[\"pmra\"]\n",
        "pmdec = data[\"pmdec\"]"
      ]
    },
    {
      "cell_type": "code",
      "execution_count": 15,
      "metadata": {
        "id": "4gkoGTBgmt1L",
        "colab": {
          "base_uri": "https://localhost:8080/",
          "height": 448
        },
        "outputId": "40f93afe-1abc-4a9e-e71d-4828d55616bb"
      },
      "outputs": [
        {
          "output_type": "execute_result",
          "data": {
            "text/plain": [
              "<matplotlib.collections.PathCollection at 0x7fa99ebfcb80>"
            ]
          },
          "metadata": {},
          "execution_count": 15
        },
        {
          "output_type": "display_data",
          "data": {
            "text/plain": [
              "<Figure size 640x480 with 1 Axes>"
            ],
            "image/png": "[encoded data removed]"
          },
          "metadata": {}
        }
      ],
      "source": [
        "# Haga el gráfico en esta celda\n",
        "plt.scatter(pmra, pmdec)"
      ]
    },
    {
      "cell_type": "markdown",
      "metadata": {
        "id": "8GmiOdWRmxs8"
      },
      "source": [
        "Si observa bien, parece que los puntos se concentran hacia la parte izquierda del gráfico. Ese grupo representa los movimientos propios de las estrellas que pertencen al cúmulo globular. Los demás puntos corresponden a los movimientos propios de estrellas de la galaxia que se \"colaron\" en la línea de visión entre nosotros (Tierra) y el cúmulo."
      ]
    },
    {
      "cell_type": "markdown",
      "metadata": {
        "id": "06TGBeMC_6By"
      },
      "source": [
        "### c) Generar distribución Gaussiana\n",
        "Calcule el promedio y la desviación estándar de ambas columnas (**pmra** y **pmdec**) y guárdelos en las variables que se indican."
      ]
    },
    {
      "cell_type": "code",
      "execution_count": 16,
      "metadata": {
        "id": "yQr1b2gToCfa"
      },
      "outputs": [],
      "source": [
        "mu_pmra = pmra.mean()\n",
        "std_pmra = pmra.std()\n",
        "\n",
        "mu_pmdec = pmdec.mean()\n",
        "std_pmdec = pmdec.std()"
      ]
    },
    {
      "cell_type": "markdown",
      "metadata": {
        "id": "EDQZsqWSo4BI"
      },
      "source": [
        "Con los promedios y desviaciones estandar obtenidas, simule una distribución gaussiana para cada eje del movimieto propio (pmra y pmdec). Recuerda que la distribución gaussiana es de la forma:\n",
        "\n",
        "$$f(x) = \\frac{1}{\\sqrt{2\\pi\\sigma^2}}e^{-\\frac{(x-\\mu)^2}{2\\sigma^2}}$$\n",
        "\n",
        "\n",
        "Por lo que necesitamos los valores de $x, \\mu$ y $\\sigma$ para cada caso.\n",
        "\n",
        "**En ascención recta**:\n",
        "1. Crea un arreglo de 300 números que estén entre -1.5 y 1. Este sería el $x$\n",
        "2. Con $\\mu$ y $\\sigma$ correspondientes a pmra calculados en la celda de arriba, genere los valores $f(x)$. Para eso, utilize la función **norm** de **scipy.stats** que está importada en la siguiente celda. Usa el método **pdf** (probability density function)\n",
        "\n",
        "\n",
        "\n",
        "**En declinación:**\n",
        "Haga lo mismo, pero el $x$ sería 300 números que estén entre -2.5 y 0.5."
      ]
    },
    {
      "cell_type": "code",
      "execution_count": 17,
      "metadata": {
        "id": "gR7uz9K0o4Pj"
      },
      "outputs": [],
      "source": [
        "from scipy.stats import norm\n",
        "\n",
        "x_pmra = np.linspace(-1.5, 1, 300)\n",
        "fx_pmra = norm.pdf(x_pmra, mu_pmra, std_pmra)\n",
        "\n",
        "x_pmdec = np.linspace(-2.5, 0.5, 300)\n",
        "fx_pmdec = norm.pdf(x_pmdec, mu_pmdec, std_pmdec)"
      ]
    },
    {
      "cell_type": "markdown",
      "metadata": {
        "id": "PRr7uiMTALrW"
      },
      "source": [
        "### d) Graficar histogramas de la distribución de movimientos propios junto a la distribución Gaussiana\n",
        "\n",
        "Grafique con matplotlib un hitograma (busque qué método de matplotlib sirve) de pmra y sobre él grafique la gaussiana correspondiente."
      ]
    },
    {
      "cell_type": "code",
      "execution_count": 37,
      "metadata": {
        "id": "rseJSP8r1yfh",
        "colab": {
          "base_uri": "https://localhost:8080/",
          "height": 448
        },
        "outputId": "205c85af-b58e-4be1-c19e-6f8020bc3e44"
      },
      "outputs": [
        {
          "output_type": "execute_result",
          "data": {
            "text/plain": [
              "[<matplotlib.lines.Line2D at 0x7fa990339f30>]"
            ]
          },
          "metadata": {},
          "execution_count": 37
        },
        {
          "output_type": "display_data",
          "data": {
            "text/plain": [
              "<Figure size 640x480 with 1 Axes>"
            ],
            "image/png": "[encoded data removed]"
          },
          "metadata": {}
        }
      ],
      "source": [
        "fig, axs = plt.subplots(1, 1)\n",
        "axs.hist(fx_pmra, 20)\n",
        "axs.plot(x_pmra, fx_pmra)"
      ]
    },
    {
      "cell_type": "markdown",
      "metadata": {
        "id": "hUFWG5eS10dE"
      },
      "source": [
        "Notará que la gaussiana apenas se ve en el gráfico, esto es porque la gaussiana está normalizada (el área bajo la curva es 1), pero esto no es así para el histograma. El problema se puede arreglar incluyendo el parámetro **density=True** en el método que grafica el histograma.\n",
        "\n",
        "Repita la gráfica anterior pero ahora tanto para pmra como para pmdec e incorporando la modificación de **density=True**. Muestre los gráficos en una misma figura como subplots."
      ]
    },
    {
      "cell_type": "code",
      "execution_count": 38,
      "metadata": {
        "id": "zVQmIYkC5Iwl",
        "colab": {
          "base_uri": "https://localhost:8080/",
          "height": 448
        },
        "outputId": "f9bfa8bb-8869-4352-df2f-5bc26b0fd3d4"
      },
      "outputs": [
        {
          "output_type": "execute_result",
          "data": {
            "text/plain": [
              "[<matplotlib.lines.Line2D at 0x7fa990422710>]"
            ]
          },
          "metadata": {},
          "execution_count": 38
        },
        {
          "output_type": "display_data",
          "data": {
            "text/plain": [
              "<Figure size 640x480 with 2 Axes>"
            ],
            "image/png": "[encoded data removed]"
          },
          "metadata": {}
        }
      ],
      "source": [
        "fig, axs = plt.subplots(1, 2)\n",
        "axs[0].hist(fx_pmra, 20, density=True)\n",
        "axs[0].plot(x_pmra, fx_pmra)\n",
        "axs[1].hist(fx_pmdec, 20, density=True)\n",
        "axs[1].plot(x_pmdec, fx_pmdec)"
      ]
    },
    {
      "cell_type": "markdown",
      "metadata": {
        "id": "9XPRCYBT5SKE"
      },
      "source": [
        "Repita la figura anterior y ahora agréguele a cada gráfica (pmra y pmdec) una franja vertical que abarque $\\mu \\pm \\sigma$ utilizando **plt.axvspan()**"
      ]
    },
    {
      "cell_type": "code",
      "execution_count": 41,
      "metadata": {
        "id": "LrTcPtZG5_4z",
        "colab": {
          "base_uri": "https://localhost:8080/",
          "height": 448
        },
        "outputId": "4b075c8b-b62e-4ee3-b17e-b9ed23ab6279"
      },
      "outputs": [
        {
          "output_type": "execute_result",
          "data": {
            "text/plain": [
              "<matplotlib.patches.Polygon at 0x7fa9901e86d0>"
            ]
          },
          "metadata": {},
          "execution_count": 41
        },
        {
          "output_type": "display_data",
          "data": {
            "text/plain": [
              "<Figure size 640x480 with 2 Axes>"
            ],
            "image/png": "[encoded data removed]"
          },
          "metadata": {}
        }
      ],
      "source": [
        "fig, axs = plt.subplots(1, 2)\n",
        "axs[0].hist(fx_pmra, 20, density=True)\n",
        "axs[0].plot(x_pmra, fx_pmra)\n",
        "axs[0].axvspan(mu_pmra - std_pmra, mu_pmra + std_pmra, color='green')\n",
        "axs[1].hist(fx_pmdec, 20, density=True)\n",
        "axs[1].plot(x_pmdec, fx_pmdec)\n",
        "axs[1].axvspan(mu_pmdec - std_pmdec, mu_pmdec + std_pmdec, color='green')"
      ]
    },
    {
      "cell_type": "markdown",
      "metadata": {
        "id": "TeKH3rnms03h"
      },
      "source": [
        "Según las gaussiaas obtenidas, ¿Cuál es la estimación para pmra y pmdec del cúmulo globular?\n",
        "\n",
        "**Respuesta:**\n",
        "\n",
        "Según la distribución gaussiana obtenida, la estimación para pmra y pmdec corresponde a su promedio, es decir, -0.3123486977209311 y -1.0897362576861138 respectivamente."
      ]
    },
    {
      "cell_type": "markdown",
      "metadata": {
        "id": "_ad3fEpu_fzn"
      },
      "source": [
        "# Segunda parte: Señal a Ruido\n",
        "Para la siguiente parte deberá trabajar con datos de espectros con líneas de emisión. Un espéctro lo puede entender como un gráfico de potencia vs longitud de onda.\n",
        "\n",
        "Abra el archivo **data_spectra.csv** con pandas y muestre el DataFrame. (No es necesario montar de nuevo el drive porque ya se hizo en la parte anterior).\n",
        "\n",
        "Las columnas **obs** corresponden a observaciones (espectro) de un objeto, en la que cada valor corresponde a la potencia asociada a una longitud de onda. La columna **Wlth** corresponde a las longitudes de onda."
      ]
    },
    {
      "cell_type": "code",
      "execution_count": 42,
      "metadata": {
        "id": "oeslf5cZUU19",
        "colab": {
          "base_uri": "https://localhost:8080/",
          "height": 461
        },
        "outputId": "1c710bb4-77a8-440b-d79f-eb2a39e37b53"
      },
      "outputs": [
        {
          "output_type": "execute_result",
          "data": {
            "text/plain": [
              "      Unnamed: 0          Wlth     obs_1     obs_2     obs_3     obs_4  \\\n",
              "0              0  13893.158801  0.673065  1.048759  1.135927  1.365672   \n",
              "1              1  13894.381791  1.218438  1.384774  0.647763  1.286700   \n",
              "2              2  13895.604780  1.244496  0.775893  1.213005  0.898531   \n",
              "3              3  13896.827769  1.395414  0.853016  0.929927  0.617134   \n",
              "4              4  13898.050759  1.013531  0.891468  1.125626  1.354080   \n",
              "...          ...           ...       ...       ...       ...       ...   \n",
              "1415        1415  15623.688705  0.693123  1.222298  1.249391  1.105946   \n",
              "1416        1416  15624.911694  1.387281  1.332809  1.151107  1.254744   \n",
              "1417        1417  15626.134683  1.208096  0.914692  0.874394  1.083929   \n",
              "1418        1418  15627.357673  1.167845  1.261191  1.306496  0.945764   \n",
              "1419        1419  15628.580662  0.624966  0.760200  1.208771  0.668682   \n",
              "\n",
              "         obs_5     obs_6     obs_7     obs_8  ...    obs_11    obs_12  \\\n",
              "0     1.205216  0.777480  0.777436  0.723454  ...  0.851846  0.828067   \n",
              "1     1.223776  1.295540  1.289402  0.979057  ...  0.792874  0.792945   \n",
              "2     1.203176  1.130615  1.133467  0.645016  ...  1.221805  1.081824   \n",
              "3     1.101129  1.363642  0.810799  0.901758  ...  0.847701  1.200020   \n",
              "4     0.681703  0.968364  0.630361  1.299735  ...  0.612065  0.706618   \n",
              "...        ...       ...       ...       ...  ...       ...       ...   \n",
              "1415  1.374470  0.780127  1.094418  1.061418  ...  1.350584  0.760689   \n",
              "1416  1.331042  0.979532  0.881491  1.209496  ...  1.177786  0.711269   \n",
              "1417  1.352754  0.606663  0.657862  1.055156  ...  0.656540  0.970074   \n",
              "1418  1.119779  0.892840  1.305614  0.618601  ...  0.827102  0.619797   \n",
              "1419  0.903250  1.356746  1.157474  0.996727  ...  0.731348  0.876257   \n",
              "\n",
              "        obs_13    obs_14    obs_15    obs_16    obs_17    obs_18    obs_19  \\\n",
              "0     0.964739  0.894189  0.734513  0.888324  0.764781  1.213573  0.952286   \n",
              "1     1.115174  1.228799  0.755613  0.933819  1.020234  1.121144  1.394790   \n",
              "2     0.871400  1.229938  0.928502  0.949589  1.276152  0.616311  1.130431   \n",
              "3     1.196751  1.047428  0.729014  1.230125  1.368756  0.777179  0.810549   \n",
              "4     0.696333  1.021694  1.160951  1.081304  1.387839  0.791448  0.876079   \n",
              "...        ...       ...       ...       ...       ...       ...       ...   \n",
              "1415  1.397787  0.627549  0.698279  0.815585  0.813801  1.079114  0.652794   \n",
              "1416  1.098026  0.829656  1.314102  1.167825  1.275656  0.947942  0.827006   \n",
              "1417  0.997054  1.222855  0.970080  1.306091  1.173684  0.832711  1.381874   \n",
              "1418  1.307590  0.979190  0.767770  1.170864  0.892064  1.355639  0.753463   \n",
              "1419  1.391777  1.157928  0.913591  1.134840  0.971503  1.331920  0.866891   \n",
              "\n",
              "        obs_20  \n",
              "0     0.714581  \n",
              "1     0.795326  \n",
              "2     1.004481  \n",
              "3     0.716121  \n",
              "4     0.704909  \n",
              "...        ...  \n",
              "1415  0.897564  \n",
              "1416  1.365960  \n",
              "1417  1.149033  \n",
              "1418  1.000630  \n",
              "1419  1.005167  \n",
              "\n",
              "[1420 rows x 22 columns]"
            ],
            "text/html": [
              "\n",
              "  <div id=\"df-21e7ffee-942b-430a-bb29-aea54c271ba4\" class=\"colab-df-container\">\n",
              "    <div>\n",
              "<style scoped>\n",
              "    .dataframe tbody tr th:only-of-type {\n",
              "        vertical-align: middle;\n",
              "    }\n",
              "\n",
              "    .dataframe tbody tr th {\n",
              "        vertical-align: top;\n",
              "    }\n",
              "\n",
              "    .dataframe thead th {\n",
              "        text-align: right;\n",
              "    }\n",
              "</style>\n",
              "<table border=\"1\" class=\"dataframe\">\n",
              "  <thead>\n",
              "    <tr style=\"text-align: right;\">\n",
              "      <th></th>\n",
              "      <th>Unnamed: 0</th>\n",
              "      <th>Wlth</th>\n",
              "      <th>obs_1</th>\n",
              "      <th>obs_2</th>\n",
              "      <th>obs_3</th>\n",
              "      <th>obs_4</th>\n",
              "      <th>obs_5</th>\n",
              "      <th>obs_6</th>\n",
              "      <th>obs_7</th>\n",
              "      <th>obs_8</th>\n",
              "      <th>...</th>\n",
              "      <th>obs_11</th>\n",
              "      <th>obs_12</th>\n",
              "      <th>obs_13</th>\n",
              "      <th>obs_14</th>\n",
              "      <th>obs_15</th>\n",
              "      <th>obs_16</th>\n",
              "      <th>obs_17</th>\n",
              "      <th>obs_18</th>\n",
              "      <th>obs_19</th>\n",
              "      <th>obs_20</th>\n",
              "    </tr>\n",
              "  </thead>\n",
              "  <tbody>\n",
              "    <tr>\n",
              "      <th>0</th>\n",
              "      <td>0</td>\n",
              "      <td>13893.158801</td>\n",
              "      <td>0.673065</td>\n",
              "      <td>1.048759</td>\n",
              "      <td>1.135927</td>\n",
              "      <td>1.365672</td>\n",
              "      <td>1.205216</td>\n",
              "      <td>0.777480</td>\n",
              "      <td>0.777436</td>\n",
              "      <td>0.723454</td>\n",
              "      <td>...</td>\n",
              "      <td>0.851846</td>\n",
              "      <td>0.828067</td>\n",
              "      <td>0.964739</td>\n",
              "      <td>0.894189</td>\n",
              "      <td>0.734513</td>\n",
              "      <td>0.888324</td>\n",
              "      <td>0.764781</td>\n",
              "      <td>1.213573</td>\n",
              "      <td>0.952286</td>\n",
              "      <td>0.714581</td>\n",
              "    </tr>\n",
              "    <tr>\n",
              "      <th>1</th>\n",
              "      <td>1</td>\n",
              "      <td>13894.381791</td>\n",
              "      <td>1.218438</td>\n",
              "      <td>1.384774</td>\n",
              "      <td>0.647763</td>\n",
              "      <td>1.286700</td>\n",
              "      <td>1.223776</td>\n",
              "      <td>1.295540</td>\n",
              "      <td>1.289402</td>\n",
              "      <td>0.979057</td>\n",
              "      <td>...</td>\n",
              "      <td>0.792874</td>\n",
              "      <td>0.792945</td>\n",
              "      <td>1.115174</td>\n",
              "      <td>1.228799</td>\n",
              "      <td>0.755613</td>\n",
              "      <td>0.933819</td>\n",
              "      <td>1.020234</td>\n",
              "      <td>1.121144</td>\n",
              "      <td>1.394790</td>\n",
              "      <td>0.795326</td>\n",
              "    </tr>\n",
              "    <tr>\n",
              "      <th>2</th>\n",
              "      <td>2</td>\n",
              "      <td>13895.604780</td>\n",
              "      <td>1.244496</td>\n",
              "      <td>0.775893</td>\n",
              "      <td>1.213005</td>\n",
              "      <td>0.898531</td>\n",
              "      <td>1.203176</td>\n",
              "      <td>1.130615</td>\n",
              "      <td>1.133467</td>\n",
              "      <td>0.645016</td>\n",
              "      <td>...</td>\n",
              "      <td>1.221805</td>\n",
              "      <td>1.081824</td>\n",
              "      <td>0.871400</td>\n",
              "      <td>1.229938</td>\n",
              "      <td>0.928502</td>\n",
              "      <td>0.949589</td>\n",
              "      <td>1.276152</td>\n",
              "      <td>0.616311</td>\n",
              "      <td>1.130431</td>\n",
              "      <td>1.004481</td>\n",
              "    </tr>\n",
              "    <tr>\n",
              "      <th>3</th>\n",
              "      <td>3</td>\n",
              "      <td>13896.827769</td>\n",
              "      <td>1.395414</td>\n",
              "      <td>0.853016</td>\n",
              "      <td>0.929927</td>\n",
              "      <td>0.617134</td>\n",
              "      <td>1.101129</td>\n",
              "      <td>1.363642</td>\n",
              "      <td>0.810799</td>\n",
              "      <td>0.901758</td>\n",
              "      <td>...</td>\n",
              "      <td>0.847701</td>\n",
              "      <td>1.200020</td>\n",
              "      <td>1.196751</td>\n",
              "      <td>1.047428</td>\n",
              "      <td>0.729014</td>\n",
              "      <td>1.230125</td>\n",
              "      <td>1.368756</td>\n",
              "      <td>0.777179</td>\n",
              "      <td>0.810549</td>\n",
              "      <td>0.716121</td>\n",
              "    </tr>\n",
              "    <tr>\n",
              "      <th>4</th>\n",
              "      <td>4</td>\n",
              "      <td>13898.050759</td>\n",
              "      <td>1.013531</td>\n",
              "      <td>0.891468</td>\n",
              "      <td>1.125626</td>\n",
              "      <td>1.354080</td>\n",
              "      <td>0.681703</td>\n",
              "      <td>0.968364</td>\n",
              "      <td>0.630361</td>\n",
              "      <td>1.299735</td>\n",
              "      <td>...</td>\n",
              "      <td>0.612065</td>\n",
              "      <td>0.706618</td>\n",
              "      <td>0.696333</td>\n",
              "      <td>1.021694</td>\n",
              "      <td>1.160951</td>\n",
              "      <td>1.081304</td>\n",
              "      <td>1.387839</td>\n",
              "      <td>0.791448</td>\n",
              "      <td>0.876079</td>\n",
              "      <td>0.704909</td>\n",
              "    </tr>\n",
              "    <tr>\n",
              "      <th>...</th>\n",
              "      <td>...</td>\n",
              "      <td>...</td>\n",
              "      <td>...</td>\n",
              "      <td>...</td>\n",
              "      <td>...</td>\n",
              "      <td>...</td>\n",
              "      <td>...</td>\n",
              "      <td>...</td>\n",
              "      <td>...</td>\n",
              "      <td>...</td>\n",
              "      <td>...</td>\n",
              "      <td>...</td>\n",
              "      <td>...</td>\n",
              "      <td>...</td>\n",
              "      <td>...</td>\n",
              "      <td>...</td>\n",
              "      <td>...</td>\n",
              "      <td>...</td>\n",
              "      <td>...</td>\n",
              "      <td>...</td>\n",
              "      <td>...</td>\n",
              "    </tr>\n",
              "    <tr>\n",
              "      <th>1415</th>\n",
              "      <td>1415</td>\n",
              "      <td>15623.688705</td>\n",
              "      <td>0.693123</td>\n",
              "      <td>1.222298</td>\n",
              "      <td>1.249391</td>\n",
              "      <td>1.105946</td>\n",
              "      <td>1.374470</td>\n",
              "      <td>0.780127</td>\n",
              "      <td>1.094418</td>\n",
              "      <td>1.061418</td>\n",
              "      <td>...</td>\n",
              "      <td>1.350584</td>\n",
              "      <td>0.760689</td>\n",
              "      <td>1.397787</td>\n",
              "      <td>0.627549</td>\n",
              "      <td>0.698279</td>\n",
              "      <td>0.815585</td>\n",
              "      <td>0.813801</td>\n",
              "      <td>1.079114</td>\n",
              "      <td>0.652794</td>\n",
              "      <td>0.897564</td>\n",
              "    </tr>\n",
              "    <tr>\n",
              "      <th>1416</th>\n",
              "      <td>1416</td>\n",
              "      <td>15624.911694</td>\n",
              "      <td>1.387281</td>\n",
              "      <td>1.332809</td>\n",
              "      <td>1.151107</td>\n",
              "      <td>1.254744</td>\n",
              "      <td>1.331042</td>\n",
              "      <td>0.979532</td>\n",
              "      <td>0.881491</td>\n",
              "      <td>1.209496</td>\n",
              "      <td>...</td>\n",
              "      <td>1.177786</td>\n",
              "      <td>0.711269</td>\n",
              "      <td>1.098026</td>\n",
              "      <td>0.829656</td>\n",
              "      <td>1.314102</td>\n",
              "      <td>1.167825</td>\n",
              "      <td>1.275656</td>\n",
              "      <td>0.947942</td>\n",
              "      <td>0.827006</td>\n",
              "      <td>1.365960</td>\n",
              "    </tr>\n",
              "    <tr>\n",
              "      <th>1417</th>\n",
              "      <td>1417</td>\n",
              "      <td>15626.134683</td>\n",
              "      <td>1.208096</td>\n",
              "      <td>0.914692</td>\n",
              "      <td>0.874394</td>\n",
              "      <td>1.083929</td>\n",
              "      <td>1.352754</td>\n",
              "      <td>0.606663</td>\n",
              "      <td>0.657862</td>\n",
              "      <td>1.055156</td>\n",
              "      <td>...</td>\n",
              "      <td>0.656540</td>\n",
              "      <td>0.970074</td>\n",
              "      <td>0.997054</td>\n",
              "      <td>1.222855</td>\n",
              "      <td>0.970080</td>\n",
              "      <td>1.306091</td>\n",
              "      <td>1.173684</td>\n",
              "      <td>0.832711</td>\n",
              "      <td>1.381874</td>\n",
              "      <td>1.149033</td>\n",
              "    </tr>\n",
              "    <tr>\n",
              "      <th>1418</th>\n",
              "      <td>1418</td>\n",
              "      <td>15627.357673</td>\n",
              "      <td>1.167845</td>\n",
              "      <td>1.261191</td>\n",
              "      <td>1.306496</td>\n",
              "      <td>0.945764</td>\n",
              "      <td>1.119779</td>\n",
              "      <td>0.892840</td>\n",
              "      <td>1.305614</td>\n",
              "      <td>0.618601</td>\n",
              "      <td>...</td>\n",
              "      <td>0.827102</td>\n",
              "      <td>0.619797</td>\n",
              "      <td>1.307590</td>\n",
              "      <td>0.979190</td>\n",
              "      <td>0.767770</td>\n",
              "      <td>1.170864</td>\n",
              "      <td>0.892064</td>\n",
              "      <td>1.355639</td>\n",
              "      <td>0.753463</td>\n",
              "      <td>1.000630</td>\n",
              "    </tr>\n",
              "    <tr>\n",
              "      <th>1419</th>\n",
              "      <td>1419</td>\n",
              "      <td>15628.580662</td>\n",
              "      <td>0.624966</td>\n",
              "      <td>0.760200</td>\n",
              "      <td>1.208771</td>\n",
              "      <td>0.668682</td>\n",
              "      <td>0.903250</td>\n",
              "      <td>1.356746</td>\n",
              "      <td>1.157474</td>\n",
              "      <td>0.996727</td>\n",
              "      <td>...</td>\n",
              "      <td>0.731348</td>\n",
              "      <td>0.876257</td>\n",
              "      <td>1.391777</td>\n",
              "      <td>1.157928</td>\n",
              "      <td>0.913591</td>\n",
              "      <td>1.134840</td>\n",
              "      <td>0.971503</td>\n",
              "      <td>1.331920</td>\n",
              "      <td>0.866891</td>\n",
              "      <td>1.005167</td>\n",
              "    </tr>\n",
              "  </tbody>\n",
              "</table>\n",
              "<p>1420 rows × 22 columns</p>\n",
              "</div>\n",
              "    <div class=\"colab-df-buttons\">\n",
              "\n",
              "  <div class=\"colab-df-container\">\n",
              "    <button class=\"colab-df-convert\" onclick=\"convertToInteractive('df-21e7ffee-942b-430a-bb29-aea54c271ba4')\"\n",
              "            title=\"Convert this dataframe to an interactive table.\"\n",
              "            style=\"display:none;\">\n",
              "\n",
              "  <svg xmlns=\"http://www.w3.org/2000/svg\" height=\"24px\" viewBox=\"0 -960 960 960\">\n",
              "    <path d=\"M120-120v-720h720v720H120Zm60-500h600v-160H180v160Zm220 220h160v-160H400v160Zm0 220h160v-160H400v160ZM180-400h160v-160H180v160Zm440 0h160v-160H620v160ZM180-180h160v-160H180v160Zm440 0h160v-160H620v160Z\"/>\n",
              "  </svg>\n",
              "    </button>\n",
              "\n",
              "  <style>\n",
              "    .colab-df-container {\n",
              "      display:flex;\n",
              "      gap: 12px;\n",
              "    }\n",
              "\n",
              "    .colab-df-convert {\n",
              "      background-color: #E8F0FE;\n",
              "      border: none;\n",
              "      border-radius: 50%;\n",
              "      cursor: pointer;\n",
              "      display: none;\n",
              "      fill: #1967D2;\n",
              "      height: 32px;\n",
              "      padding: 0 0 0 0;\n",
              "      width: 32px;\n",
              "    }\n",
              "\n",
              "    .colab-df-convert:hover {\n",
              "      background-color: #E2EBFA;\n",
              "      box-shadow: 0px 1px 2px rgba(60, 64, 67, 0.3), 0px 1px 3px 1px rgba(60, 64, 67, 0.15);\n",
              "      fill: #174EA6;\n",
              "    }\n",
              "\n",
              "    .colab-df-buttons div {\n",
              "      margin-bottom: 4px;\n",
              "    }\n",
              "\n",
              "    [theme=dark] .colab-df-convert {\n",
              "      background-color: #3B4455;\n",
              "      fill: #D2E3FC;\n",
              "    }\n",
              "\n",
              "    [theme=dark] .colab-df-convert:hover {\n",
              "      background-color: #434B5C;\n",
              "      box-shadow: 0px 1px 3px 1px rgba(0, 0, 0, 0.15);\n",
              "      filter: drop-shadow(0px 1px 2px rgba(0, 0, 0, 0.3));\n",
              "      fill: #FFFFFF;\n",
              "    }\n",
              "  </style>\n",
              "\n",
              "    <script>\n",
              "      const buttonEl =\n",
              "        document.querySelector('#df-21e7ffee-942b-430a-bb29-aea54c271ba4 button.colab-df-convert');\n",
              "      buttonEl.style.display =\n",
              "        google.colab.kernel.accessAllowed ? 'block' : 'none';\n",
              "\n",
              "      async function convertToInteractive(key) {\n",
              "        const element = document.querySelector('#df-21e7ffee-942b-430a-bb29-aea54c271ba4');\n",
              "        const dataTable =\n",
              "          await google.colab.kernel.invokeFunction('convertToInteractive',\n",
              "                                                    [key], {});\n",
              "        if (!dataTable) return;\n",
              "\n",
              "        const docLinkHtml = 'Like what you see? Visit the ' +\n",
              "          '<a target=\"_blank\" href=https://colab.research.google.com/notebooks/data_table.ipynb>data table notebook</a>'\n",
              "          + ' to learn more about interactive tables.';\n",
              "        element.innerHTML = '';\n",
              "        dataTable['output_type'] = 'display_data';\n",
              "        await google.colab.output.renderOutput(dataTable, element);\n",
              "        const docLink = document.createElement('div');\n",
              "        docLink.innerHTML = docLinkHtml;\n",
              "        element.appendChild(docLink);\n",
              "      }\n",
              "    </script>\n",
              "  </div>\n",
              "\n",
              "\n",
              "<div id=\"df-4c61d0fd-f72a-48f3-89b1-256962c2fa39\">\n",
              "  <button class=\"colab-df-quickchart\" onclick=\"quickchart('df-4c61d0fd-f72a-48f3-89b1-256962c2fa39')\"\n",
              "            title=\"Suggest charts\"\n",
              "            style=\"display:none;\">\n",
              "\n",
              "<svg xmlns=\"http://www.w3.org/2000/svg\" height=\"24px\"viewBox=\"0 0 24 24\"\n",
              "     width=\"24px\">\n",
              "    <g>\n",
              "        <path d=\"M19 3H5c-1.1 0-2 .9-2 2v14c0 1.1.9 2 2 2h14c1.1 0 2-.9 2-2V5c0-1.1-.9-2-2-2zM9 17H7v-7h2v7zm4 0h-2V7h2v10zm4 0h-2v-4h2v4z\"/>\n",
              "    </g>\n",
              "</svg>\n",
              "  </button>\n",
              "\n",
              "<style>\n",
              "  .colab-df-quickchart {\n",
              "      --bg-color: #E8F0FE;\n",
              "      --fill-color: #1967D2;\n",
              "      --hover-bg-color: #E2EBFA;\n",
              "      --hover-fill-color: #174EA6;\n",
              "      --disabled-fill-color: #AAA;\n",
              "      --disabled-bg-color: #DDD;\n",
              "  }\n",
              "\n",
              "  [theme=dark] .colab-df-quickchart {\n",
              "      --bg-color: #3B4455;\n",
              "      --fill-color: #D2E3FC;\n",
              "      --hover-bg-color: #434B5C;\n",
              "      --hover-fill-color: #FFFFFF;\n",
              "      --disabled-bg-color: #3B4455;\n",
              "      --disabled-fill-color: #666;\n",
              "  }\n",
              "\n",
              "  .colab-df-quickchart {\n",
              "    background-color: var(--bg-color);\n",
              "    border: none;\n",
              "    border-radius: 50%;\n",
              "    cursor: pointer;\n",
              "    display: none;\n",
              "    fill: var(--fill-color);\n",
              "    height: 32px;\n",
              "    padding: 0;\n",
              "    width: 32px;\n",
              "  }\n",
              "\n",
              "  .colab-df-quickchart:hover {\n",
              "    background-color: var(--hover-bg-color);\n",
              "    box-shadow: 0 1px 2px rgba(60, 64, 67, 0.3), 0 1px 3px 1px rgba(60, 64, 67, 0.15);\n",
              "    fill: var(--button-hover-fill-color);\n",
              "  }\n",
              "\n",
              "  .colab-df-quickchart-complete:disabled,\n",
              "  .colab-df-quickchart-complete:disabled:hover {\n",
              "    background-color: var(--disabled-bg-color);\n",
              "    fill: var(--disabled-fill-color);\n",
              "    box-shadow: none;\n",
              "  }\n",
              "\n",
              "  .colab-df-spinner {\n",
              "    border: 2px solid var(--fill-color);\n",
              "    border-color: transparent;\n",
              "    border-bottom-color: var(--fill-color);\n",
              "    animation:\n",
              "      spin 1s steps(1) infinite;\n",
              "  }\n",
              "\n",
              "  @keyframes spin {\n",
              "    0% {\n",
              "      border-color: transparent;\n",
              "      border-bottom-color: var(--fill-color);\n",
              "      border-left-color: var(--fill-color);\n",
              "    }\n",
              "    20% {\n",
              "      border-color: transparent;\n",
              "      border-left-color: var(--fill-color);\n",
              "      border-top-color: var(--fill-color);\n",
              "    }\n",
              "    30% {\n",
              "      border-color: transparent;\n",
              "      border-left-color: var(--fill-color);\n",
              "      border-top-color: var(--fill-color);\n",
              "      border-right-color: var(--fill-color);\n",
              "    }\n",
              "    40% {\n",
              "      border-color: transparent;\n",
              "      border-right-color: var(--fill-color);\n",
              "      border-top-color: var(--fill-color);\n",
              "    }\n",
              "    60% {\n",
              "      border-color: transparent;\n",
              "      border-right-color: var(--fill-color);\n",
              "    }\n",
              "    80% {\n",
              "      border-color: transparent;\n",
              "      border-right-color: var(--fill-color);\n",
              "      border-bottom-color: var(--fill-color);\n",
              "    }\n",
              "    90% {\n",
              "      border-color: transparent;\n",
              "      border-bottom-color: var(--fill-color);\n",
              "    }\n",
              "  }\n",
              "</style>\n",
              "\n",
              "  <script>\n",
              "    async function quickchart(key) {\n",
              "      const quickchartButtonEl =\n",
              "        document.querySelector('#' + key + ' button');\n",
              "      quickchartButtonEl.disabled = true;  // To prevent multiple clicks.\n",
              "      quickchartButtonEl.classList.add('colab-df-spinner');\n",
              "      try {\n",
              "        const charts = await google.colab.kernel.invokeFunction(\n",
              "            'suggestCharts', [key], {});\n",
              "      } catch (error) {\n",
              "        console.error('Error during call to suggestCharts:', error);\n",
              "      }\n",
              "      quickchartButtonEl.classList.remove('colab-df-spinner');\n",
              "      quickchartButtonEl.classList.add('colab-df-quickchart-complete');\n",
              "    }\n",
              "    (() => {\n",
              "      let quickchartButtonEl =\n",
              "        document.querySelector('#df-4c61d0fd-f72a-48f3-89b1-256962c2fa39 button');\n",
              "      quickchartButtonEl.style.display =\n",
              "        google.colab.kernel.accessAllowed ? 'block' : 'none';\n",
              "    })();\n",
              "  </script>\n",
              "</div>\n",
              "\n",
              "  <div id=\"id_4e58e21a-12aa-4f49-a5e4-3a0f862a8da3\">\n",
              "    <style>\n",
              "      .colab-df-generate {\n",
              "        background-color: #E8F0FE;\n",
              "        border: none;\n",
              "        border-radius: 50%;\n",
              "        cursor: pointer;\n",
              "        display: none;\n",
              "        fill: #1967D2;\n",
              "        height: 32px;\n",
              "        padding: 0 0 0 0;\n",
              "        width: 32px;\n",
              "      }\n",
              "\n",
              "      .colab-df-generate:hover {\n",
              "        background-color: #E2EBFA;\n",
              "        box-shadow: 0px 1px 2px rgba(60, 64, 67, 0.3), 0px 1px 3px 1px rgba(60, 64, 67, 0.15);\n",
              "        fill: #174EA6;\n",
              "      }\n",
              "\n",
              "      [theme=dark] .colab-df-generate {\n",
              "        background-color: #3B4455;\n",
              "        fill: #D2E3FC;\n",
              "      }\n",
              "\n",
              "      [theme=dark] .colab-df-generate:hover {\n",
              "        background-color: #434B5C;\n",
              "        box-shadow: 0px 1px 3px 1px rgba(0, 0, 0, 0.15);\n",
              "        filter: drop-shadow(0px 1px 2px rgba(0, 0, 0, 0.3));\n",
              "        fill: #FFFFFF;\n",
              "      }\n",
              "    </style>\n",
              "    <button class=\"colab-df-generate\" onclick=\"generateWithVariable('data')\"\n",
              "            title=\"Generate code using this dataframe.\"\n",
              "            style=\"display:none;\">\n",
              "\n",
              "  <svg xmlns=\"http://www.w3.org/2000/svg\" height=\"24px\"viewBox=\"0 0 24 24\"\n",
              "       width=\"24px\">\n",
              "    <path d=\"M7,19H8.4L18.45,9,17,7.55,7,17.6ZM5,21V16.75L18.45,3.32a2,2,0,0,1,2.83,0l1.4,1.43a1.91,1.91,0,0,1,.58,1.4,1.91,1.91,0,0,1-.58,1.4L9.25,21ZM18.45,9,17,7.55Zm-12,3A5.31,5.31,0,0,0,4.9,8.1,5.31,5.31,0,0,0,1,6.5,5.31,5.31,0,0,0,4.9,4.9,5.31,5.31,0,0,0,6.5,1,5.31,5.31,0,0,0,8.1,4.9,5.31,5.31,0,0,0,12,6.5,5.46,5.46,0,0,0,6.5,12Z\"/>\n",
              "  </svg>\n",
              "    </button>\n",
              "    <script>\n",
              "      (() => {\n",
              "      const buttonEl =\n",
              "        document.querySelector('#id_4e58e21a-12aa-4f49-a5e4-3a0f862a8da3 button.colab-df-generate');\n",
              "      buttonEl.style.display =\n",
              "        google.colab.kernel.accessAllowed ? 'block' : 'none';\n",
              "\n",
              "      buttonEl.onclick = () => {\n",
              "        google.colab.notebook.generateWithVariable('data');\n",
              "      }\n",
              "      })();\n",
              "    </script>\n",
              "  </div>\n",
              "\n",
              "    </div>\n",
              "  </div>\n"
            ],
            "application/vnd.google.colaboratory.intrinsic+json": {
              "type": "dataframe",
              "variable_name": "data"
            }
          },
          "metadata": {},
          "execution_count": 42
        }
      ],
      "source": [
        "# Lea y muestre el DataFrame aquí\n",
        "path = 'drive/MyDrive/Modulo/Tarea2/data_spectra.csv'\n",
        "data = pd.read_csv(path)\n",
        "data"
      ]
    },
    {
      "cell_type": "markdown",
      "metadata": {
        "id": "hq24-d-hUEKK"
      },
      "source": [
        "### a) Gráfico de primer espectro:\n",
        "Grafique el espectro de la primera observación (columna **obs_1** vs columna **Wlth**) y responda: ¿Cuántas líneas de emisión detecta a simple vista?\n",
        "\n",
        "**Respuesta:** A simple vista, se pueden observar tres lineas de emisión, siendo una mucho más grande que las otras dos."
      ]
    },
    {
      "cell_type": "code",
      "execution_count": 43,
      "metadata": {
        "id": "ASKjJCIgVRm5",
        "colab": {
          "base_uri": "https://localhost:8080/",
          "height": 448
        },
        "outputId": "b39abff5-002d-4bc2-957a-3b7ceda9f01e"
      },
      "outputs": [
        {
          "output_type": "execute_result",
          "data": {
            "text/plain": [
              "[<matplotlib.lines.Line2D at 0x7fa99031dcc0>]"
            ]
          },
          "metadata": {},
          "execution_count": 43
        },
        {
          "output_type": "display_data",
          "data": {
            "text/plain": [
              "<Figure size 640x480 with 1 Axes>"
            ],
            "image/png": "[encoded data removed]"
          },
          "metadata": {}
        }
      ],
      "source": [
        "# Grafique aquí\n",
        "plt.plot(data['obs_1'], data['Wlth'])"
      ]
    },
    {
      "cell_type": "markdown",
      "metadata": {
        "id": "lw7a4L36VLSx"
      },
      "source": [
        "Notará que los valores del eje y están centrados alrededor de 1. Centre la observación en 0. Para esto, estime el valor medio del ruido y réstelo a todo el espectro ¿Cómo piensa que podria hacer esto?. Grafique el espectro resultante.\n",
        "\n",
        "**Respuesta:** Se puede obtener el promedio del ruido de obs_1, y luego restarselo al array para centrar los datos en cero."
      ]
    },
    {
      "cell_type": "code",
      "execution_count": 46,
      "metadata": {
        "id": "0wp3qEGDV2Ro",
        "colab": {
          "base_uri": "https://localhost:8080/",
          "height": 448
        },
        "outputId": "831d5952-1d2f-47ea-a77e-262488fd7563"
      },
      "outputs": [
        {
          "output_type": "execute_result",
          "data": {
            "text/plain": [
              "[<matplotlib.lines.Line2D at 0x7fa990063490>]"
            ]
          },
          "metadata": {},
          "execution_count": 46
        },
        {
          "output_type": "display_data",
          "data": {
            "text/plain": [
              "<Figure size 640x480 with 1 Axes>"
            ],
            "image/png": "[encoded data removed]"
          },
          "metadata": {}
        }
      ],
      "source": [
        "# Grafique el espectro centrado en 0 aquí\n",
        "obs_1 = data['obs_1']\n",
        "mu_obs1 = obs_1.mean()\n",
        "obs_1_clean = obs_1 - mu_obs1\n",
        "plt.plot(obs_1_clean, data['Wlth'])"
      ]
    },
    {
      "cell_type": "markdown",
      "metadata": {
        "id": "-wctIMluXMSn"
      },
      "source": [
        "### b) Nivel de ruido:\n",
        "\n",
        "En esta parte estimaremos el nivel de ruido de la la observación 1 de una forma distinta. Para esto siga los sigueintes pasos:"
      ]
    },
    {
      "cell_type": "markdown",
      "metadata": {
        "id": "0Grj907EXPpB"
      },
      "source": [
        "1. Tome la columna **obs_1** y guarde en la variable **ruido** un subconjunto de datos centrados en la media de **obs_1** con un margen de $\\pm 3 \\sigma$, con $\\sigma$ la desviación estándar de **obs_1**.\n",
        "\n",
        "Note que este subconjunto corresponde a ruido principalmente."
      ]
    },
    {
      "cell_type": "code",
      "execution_count": 53,
      "metadata": {
        "id": "njBzind3Xemx"
      },
      "outputs": [],
      "source": [
        "std_obs_1 = obs_1.std()\n",
        "ruido = obs_1.loc[lambda x: (x <= mu_obs1 - std_obs_1) & (x <= mu_obs1 + std_obs_1)]"
      ]
    },
    {
      "cell_type": "markdown",
      "metadata": {
        "id": "Hf5enNp6XfiJ"
      },
      "source": [
        "2. Reste la media del ruido al espectro para centrar y grafique el espectro resultante."
      ]
    },
    {
      "cell_type": "code",
      "execution_count": 54,
      "metadata": {
        "id": "xnjenF_OXkCR",
        "colab": {
          "base_uri": "https://localhost:8080/",
          "height": 448
        },
        "outputId": "e045d0e0-40ce-4de1-ee4a-fd4a11ca6fce"
      },
      "outputs": [
        {
          "output_type": "execute_result",
          "data": {
            "text/plain": [
              "[<matplotlib.lines.Line2D at 0x7fa98fae0b80>]"
            ]
          },
          "metadata": {},
          "execution_count": 54
        },
        {
          "output_type": "display_data",
          "data": {
            "text/plain": [
              "<Figure size 640x480 with 1 Axes>"
            ],
            "image/png": "[encoded data removed]"
          },
          "metadata": {}
        }
      ],
      "source": [
        "# Grafique el espectro centrado en 0 aquí\n",
        "mu_ruido = ruido.mean()\n",
        "obs_1_clean2 = obs_1 - mu_ruido\n",
        "plt.plot(obs_1_clean2, data['Wlth'])"
      ]
    },
    {
      "cell_type": "markdown",
      "metadata": {
        "id": "Mv4guDgcXkXy"
      },
      "source": [
        "3. Calcule $\\sigma$ del ruido y grafique un margen de $\\pm n*\\sigma$ (con $n$ entero) sobre el espectro como dos líneas horizontales. ¿Qué valor de $n$ le parece adecuado y por qué? este será el nivel de ruido.\n",
        "\n",
        "**Respuesta:**"
      ]
    },
    {
      "cell_type": "code",
      "execution_count": 68,
      "metadata": {
        "id": "Sm3sOgOxX3EX"
      },
      "outputs": [],
      "source": [
        "ruido_std = ruido.std()\n",
        "n = 1\n",
        "# print(n*ruido_std)\n",
        "# plt.axhline(y = n*ruido_std, color = 'r', linestyle = '-')\n",
        "# plt.axhline(y = -n*ruido_std, color = 'r', linestyle = '-')\n",
        "# plt.plot(obs_1_clean2, data['Wlth'])"
      ]
    },
    {
      "cell_type": "markdown",
      "metadata": {
        "id": "d7y0fEa5bIa6"
      },
      "source": [
        "### c) Disminución de $\\sigma$\n",
        "\n",
        "Ahora verá cómo el nivel de ruido disminuye al promediar observaciones. Siga los siguientes pasos:\n",
        "\n",
        "1. Centre todas las observaciones en 0 de la misma manera hecha en ela parte b). Como consejo, puede recorrer las columnas del DataFrame con un for y modificar solo las que correspondan a una observación."
      ]
    },
    {
      "cell_type": "code",
      "execution_count": null,
      "metadata": {
        "id": "uyvsnX2-beug"
      },
      "outputs": [],
      "source": []
    },
    {
      "cell_type": "markdown",
      "metadata": {
        "id": "0C5ZCBMvbfWo"
      },
      "source": [
        "2. A continuación verá cómo cambia sigma a medida que promediamos los espectros. Para esto realice el siguiente algoritmo:\n",
        "\n",
        " - Calcule $\\sigma$ de **obs_1**.\n",
        " - Promedie **obs_1** y **obs_2**, y calcule $\\sigma$.\n",
        " - Promedie **obs_1**, **obs_2** y **obs_3**, y calcule $\\sigma$.\n",
        " - Siga hasta haber promediado todas las observaciones (recuerde guardar los valores de $\\sigma$)\n",
        "\n",
        " Añada al DataFrame una nueva columna **obs_all** que corresponda al promedio de todos los espectros."
      ]
    },
    {
      "cell_type": "code",
      "execution_count": null,
      "metadata": {
        "id": "e8gNHUT1brEv"
      },
      "outputs": [],
      "source": []
    },
    {
      "cell_type": "markdown",
      "metadata": {
        "id": "VnU_U3BobvJs"
      },
      "source": [
        " 3. Finalmente grafique los valores de $\\sigma$ en funcion de $N$, con $N$ el numero de observaciones promediada. ¿Qué ocurre con $\\sigma$? ¿Es esperado el resultado? Comente.\n",
        "\n",
        "**Respuesta:**"
      ]
    },
    {
      "cell_type": "code",
      "execution_count": null,
      "metadata": {
        "id": "Kndqs-L_bxuY"
      },
      "outputs": [],
      "source": []
    },
    {
      "cell_type": "markdown",
      "metadata": {
        "id": "buhUwcZaGujJ"
      },
      "source": [
        "### d) Promedio de observaciones\n",
        "\n",
        "Finalmente grafique el promedio de todas las observaciones (columna **obs_all** vs columna **Wlth**). ¿Cuántas líneas de emisión puede apreciar ahora? ¿Podría explicar a qué se debe? Comente.\n",
        "\n",
        "**Respuesta:**"
      ]
    },
    {
      "cell_type": "code",
      "execution_count": null,
      "metadata": {
        "id": "yKyC9j53dT5U"
      },
      "outputs": [],
      "source": []
    }
  ],
  "metadata": {
    "colab": {
      "provenance": [],
      "include_colab_link": true
    },
    "kernelspec": {
      "display_name": "Python 3 (ipykernel)",
      "language": "python",
      "name": "python3"
    },
    "language_info": {
      "codemirror_mode": {
        "name": "ipython",
        "version": 3
      },
      "file_extension": ".py",
      "mimetype": "text/x-python",
      "name": "python",
      "nbconvert_exporter": "python",
      "pygments_lexer": "ipython3",
      "version": "3.10.12"
    }
  },
  "nbformat": 4,
  "nbformat_minor": 0
}